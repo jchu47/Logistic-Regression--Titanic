{
 "cells": [
  {
   "cell_type": "markdown",
   "metadata": {},
   "source": [
    "# Logistic Regression"
   ]
  },
  {
   "cell_type": "markdown",
   "metadata": {},
   "source": [
    "## The goal of this machine learning project is to predict the likelyhood of survival for passengers on the Titanic.  At the end of the Jupyter Notebook, the fictional characters Jack, Rose, and myself are predicted for our chances of survival."
   ]
  },
  {
   "cell_type": "code",
   "execution_count": 2,
   "metadata": {},
   "outputs": [],
   "source": [
    "import seaborn\n",
    "import pandas as pd\n",
    "import numpy as np\n",
    "import matplotlib.pyplot as plt\n",
    "from sklearn.linear_model import LogisticRegression\n",
    "from sklearn.model_selection import train_test_split\n",
    "from sklearn.preprocessing import StandardScaler"
   ]
  },
  {
   "cell_type": "markdown",
   "metadata": {},
   "source": [
    "### Obtaining and cleaning the data:"
   ]
  },
  {
   "cell_type": "code",
   "execution_count": 3,
   "metadata": {},
   "outputs": [
    {
     "name": "stdout",
     "output_type": "stream",
     "text": [
      "   PassengerId  Survived  Pclass  \\\n",
      "0            1         0       3   \n",
      "1            2         1       1   \n",
      "2            3         1       3   \n",
      "3            4         1       1   \n",
      "4            5         0       3   \n",
      "\n",
      "                                                Name     Sex   Age  SibSp  \\\n",
      "0                            Braund, Mr. Owen Harris    male  22.0      1   \n",
      "1  Cumings, Mrs. John Bradley (Florence Briggs Th...  female  38.0      1   \n",
      "2                             Heikkinen, Miss. Laina  female  26.0      0   \n",
      "3       Futrelle, Mrs. Jacques Heath (Lily May Peel)  female  35.0      1   \n",
      "4                           Allen, Mr. William Henry    male  35.0      0   \n",
      "\n",
      "   Parch            Ticket     Fare Cabin Embarked  sex-int  FirstClass  \\\n",
      "0      0         A/5 21171   7.2500   NaN        S        0           0   \n",
      "1      0          PC 17599  71.2833   C85        C        1           1   \n",
      "2      0  STON/O2. 3101282   7.9250   NaN        S        1           0   \n",
      "3      0            113803  53.1000  C123        S        1           1   \n",
      "4      0            373450   8.0500   NaN        S        0           0   \n",
      "\n",
      "   SecondClass  \n",
      "0            0  \n",
      "1            0  \n",
      "2            0  \n",
      "3            0  \n",
      "4            0  \n"
     ]
    }
   ],
   "source": [
    "\n",
    "# Load the passenger data\n",
    "passengers = pd.read_csv('passengers.csv', header=0)\n",
    "#print(passengers.head())\n",
    "\n",
    "# Update sex column to numerical\n",
    "passengers['sex-int'] = passengers['Sex'].apply(lambda row: 1 if row == 'female' else 0)\n",
    "\n",
    "# Fill the nan values in the age column\n",
    "passengers['Age'].fillna(value=passengers['Age'].mean(), inplace=True)\n",
    "\n",
    "#print(passengers['Age'].values)\n",
    "\n",
    "# Create a first class column\n",
    "passengers['FirstClass'] = passengers['Pclass'].apply(lambda row: 1 if row == 1 else 0)\n",
    "\n",
    "# Create a second class column\n",
    "passengers['SecondClass'] = passengers['Pclass'].apply(lambda row: 1 if row == 2 else 0)\n",
    "print(passengers.head())\n",
    "\n",
    "# Select the desired features\n",
    "features = passengers[['sex-int', 'Age', 'FirstClass', 'SecondClass']]\n",
    "survival = passengers['Survived']\n"
   ]
  },
  {
   "cell_type": "markdown",
   "metadata": {},
   "source": [
    "### Training, splitting and regularizing the data:"
   ]
  },
  {
   "cell_type": "code",
   "execution_count": 4,
   "metadata": {},
   "outputs": [
    {
     "name": "stdout",
     "output_type": "stream",
     "text": [
      "The model's accuracy on training data is:  0.7913322632423756\n",
      "The model's accuracy on testing data is:  0.8097014925373134\n",
      "The coefficients of the model are:  [[ 2.36345342 -0.02788825  2.23359203  1.13126195]]\n"
     ]
    }
   ],
   "source": [
    "# Perform train, test, split\n",
    "X_train, X_test, y_train, y_test = train_test_split(features, survival, test_size=0.3)\n",
    "\n",
    "# Scale the feature data so it has mean = 0 and standard deviation = 1\n",
    "scaler = StandardScaler()\n",
    "scaler.fit_transform(X_train)\n",
    "scaler.transform(X_test)\n",
    "\n",
    "# Create and train the model\n",
    "model = LogisticRegression()\n",
    "model.fit(X_train, y_train)\n",
    "\n",
    "# Score the model on the train data\n",
    "print(\"The model's accuracy on training data is: \", model.score(X_train, y_train))\n",
    "\n",
    "# Score the model on the test data\n",
    "print(\"The model's accuracy on testing data is: \", model.score(X_test, y_test))\n",
    "\n",
    "# Analyze the coefficients\n",
    "print(\"The coefficients of the model are: \", model.coef_)\n"
   ]
  },
  {
   "cell_type": "markdown",
   "metadata": {},
   "source": [
    "### The sample passenger's data is made into an array, regularized, and fit into the model."
   ]
  },
  {
   "cell_type": "code",
   "execution_count": 5,
   "metadata": {},
   "outputs": [
    {
     "name": "stdout",
     "output_type": "stream",
     "text": [
      "[0 1 1]\n",
      "[[0.87828037 0.12171963]\n",
      " [0.06271043 0.93728957]\n",
      " [0.45668841 0.54331159]]\n"
     ]
    }
   ],
   "source": [
    "# Sample passenger features\n",
    "Jack = np.array([0.0,20.0,0.0,0.0])\n",
    "Rose = np.array([1.0,17.0,1.0,0.0])\n",
    "Justin  = np.array([0.0, 23.0, 1.0, 0.0]) #Me\n",
    "\n",
    "# Combine passenger arrays\n",
    "sample_passengers = np.array([Jack, Rose, Justin])\n",
    "\n",
    "# Scale the sample passenger features\n",
    "scaler.transform(sample_passengers)\n",
    "#print(sample_passengers)\n",
    "\n",
    "# Make survival predictions!\n",
    "print(model.predict(sample_passengers))\n",
    "# Jack is the only sample passenger predicted to die with the Titanic\n",
    "\n",
    "print(model.predict_proba(sample_passengers))"
   ]
  },
  {
   "cell_type": "code",
   "execution_count": null,
   "metadata": {},
   "outputs": [],
   "source": []
  }
 ],
 "metadata": {
  "kernelspec": {
   "display_name": "Python 3",
   "language": "python",
   "name": "python3"
  },
  "language_info": {
   "codemirror_mode": {
    "name": "ipython",
    "version": 3
   },
   "file_extension": ".py",
   "mimetype": "text/x-python",
   "name": "python",
   "nbconvert_exporter": "python",
   "pygments_lexer": "ipython3",
   "version": "3.8.5"
  }
 },
 "nbformat": 4,
 "nbformat_minor": 4
}
